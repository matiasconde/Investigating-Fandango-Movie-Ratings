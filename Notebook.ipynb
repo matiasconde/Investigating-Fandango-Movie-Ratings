{
 "cells": [
  {
   "cell_type": "markdown",
   "metadata": {
    "collapsed": true
   },
   "source": [
    "#### Examining movie ratings from Fandango's Scores\n",
    "\n",
    "- After the strongly left skewed distribution of ratings (Fandango puntuation was generally high or very high for movies). Fandango's officials replied that the biased rounding off was caused by a bug in their system rather than being intentional, and they promised to fix the bug as soon as possible. \n",
    "\n",
    "- We'll analyze more recent movie ratings data to determine whether there has been any change in Fandango's rating system after Hickey's analysis (potential intentional biased and dishonest rating system)."
   ]
  },
  {
   "cell_type": "code",
   "execution_count": 1,
   "metadata": {
    "collapsed": true
   },
   "outputs": [],
   "source": [
    "import pandas as pd\n",
    "import numpy as np\n",
    "import matplotlib.pyplot as plt\n",
    "import seaborn as sns\n",
    "from scipy.stats import kurtosis, skew\n",
    "%matplotlib inline"
   ]
  },
  {
   "cell_type": "code",
   "execution_count": 2,
   "metadata": {
    "collapsed": false
   },
   "outputs": [],
   "source": [
    "fsc = pd.read_csv(\"fandango_score_comparison.csv\")\n",
    "mr_16_17 = pd.read_csv(\"movie_ratings_16_17.csv\")"
   ]
  },
  {
   "cell_type": "markdown",
   "metadata": {},
   "source": [
    "###### Information about the data:\n",
    "- fandango_score_comparison.csv contains every film that has a Rotten Tomatoes rating, a RT User rating, a Metacritic score, a Metacritic User score, and IMDb score, and at least 30 fan reviews on Fandango. The data from Fandango was pulled on Aug. 24, 2015.\n",
    "- movie_ratings_16_17.csv contains movie ratings data for 214 of the most popular movies (with a significant number of votes) released in 2016 and 2017. As of March 22, 2017, the ratings were up to date. Significant changes should be expected mostly for movies released in 2017."
   ]
  },
  {
   "cell_type": "code",
   "execution_count": 3,
   "metadata": {
    "collapsed": false
   },
   "outputs": [
    {
     "name": "stderr",
     "output_type": "stream",
     "text": [
      "/dataquest/system/env/python3/lib/python3.4/site-packages/ipykernel/__main__.py:4: SettingWithCopyWarning: \n",
      "A value is trying to be set on a copy of a slice from a DataFrame.\n",
      "Try using .loc[row_indexer,col_indexer] = value instead\n",
      "\n",
      "See the caveats in the documentation: http://pandas.pydata.org/pandas-docs/stable/indexing.html#indexing-view-versus-copy\n"
     ]
    }
   ],
   "source": [
    "fandango_before = fsc[[\"FILM\",\"Fandango_Stars\",\"Fandango_Ratingvalue\",\"Fandango_votes\",\"Fandango_Difference\"]]\n",
    "fandango_after = mr_16_17[[\"movie\",\"year\",\"fandango\"]]\n",
    "\n",
    "fandango_before['Year'] = fandango_before['FILM'].str[-5:-1]\n"
   ]
  },
  {
   "cell_type": "code",
   "execution_count": 4,
   "metadata": {
    "collapsed": false
   },
   "outputs": [
    {
     "data": {
      "text/plain": [
       "(146, 22)"
      ]
     },
     "execution_count": 4,
     "metadata": {},
     "output_type": "execute_result"
    }
   ],
   "source": [
    "fsc.shape"
   ]
  },
  {
   "cell_type": "code",
   "execution_count": 5,
   "metadata": {
    "collapsed": false
   },
   "outputs": [
    {
     "data": {
      "text/plain": [
       "(214, 15)"
      ]
     },
     "execution_count": 5,
     "metadata": {},
     "output_type": "execute_result"
    }
   ],
   "source": [
    "mr_16_17.shape"
   ]
  },
  {
   "cell_type": "code",
   "execution_count": 6,
   "metadata": {
    "collapsed": false
   },
   "outputs": [],
   "source": [
    "mr_16_17.sort_values(by=\"year\",inplace=True)"
   ]
  },
  {
   "cell_type": "code",
   "execution_count": 7,
   "metadata": {
    "collapsed": false
   },
   "outputs": [
    {
     "data": {
      "text/plain": [
       "2016    191\n",
       "2017     23\n",
       "Name: year, dtype: int64"
      ]
     },
     "execution_count": 7,
     "metadata": {},
     "output_type": "execute_result"
    }
   ],
   "source": [
    "mr_16_17[\"year\"].value_counts()"
   ]
  },
  {
   "cell_type": "markdown",
   "metadata": {},
   "source": [
    "###### Population of interest = \"All fandango ratings on the movies released before and after \"Hickey's analysis. The goal is to analize wether the parameters of the populations change before and after that analysis.\"\n",
    "\n",
    "Sample characteristics: Both of the data sets fsc and mr_16_17 had special conditions to be selected:\n",
    "- The cut conditions about fsc are: movies with >30 fan reviews and online-selling tickets on fandango in 2015 up to Aug. 24. \n",
    "- The cut conditions about mr_16_17 are: movies with a \"considerable\" amount of user votes reviews and relesed in the years of 2016 - 2017 up to March 22.\n",
    "\n",
    "Seems that this is not a randomly sampling practice. Clearly there are conditions to generate the samples. They are justify because of the purpose of the analysis by the author. There is some specific questions to answer about some dishonest busines practice: because of volume business reasons they fix a certain number of fan reviews or user-votes and trends to be movies with online ticket-sell."
   ]
  },
  {
   "cell_type": "markdown",
   "metadata": {},
   "source": [
    "##### Changing the goal of the analysis:\n",
    "- Simply we are going to match or reproduce the initial conditions of the authors:\n",
    "\n",
    "<i> Sampling movies with a considerable number of fan reviewers or user votes and the change reflected from 2015 to 2017 with a midline in Aug 24, 2015. \n",
    "<i/>"
   ]
  },
  {
   "cell_type": "code",
   "execution_count": 8,
   "metadata": {
    "collapsed": false
   },
   "outputs": [
    {
     "data": {
      "text/plain": [
       "0"
      ]
     },
     "execution_count": 8,
     "metadata": {},
     "output_type": "execute_result"
    }
   ],
   "source": [
    "fandango_before[fandango_before[\"Fandango_votes\"]<30].shape[0]"
   ]
  },
  {
   "cell_type": "markdown",
   "metadata": {},
   "source": [
    "- The data set \"fandango_before\" contains only popular movies with over 30 reviews. This is checked above.\n",
    "- the data set \"fandango_after\" doesn't contain information about the number of fan reviews. To check that there are only or almost only popular movies on the data set we are going to sample 10 movies and compare with the number of fan reviews based on internet."
   ]
  },
  {
   "cell_type": "code",
   "execution_count": 9,
   "metadata": {
    "collapsed": false
   },
   "outputs": [
    {
     "data": {
      "text/html": [
       "<div>\n",
       "<style scoped>\n",
       "    .dataframe tbody tr th:only-of-type {\n",
       "        vertical-align: middle;\n",
       "    }\n",
       "\n",
       "    .dataframe tbody tr th {\n",
       "        vertical-align: top;\n",
       "    }\n",
       "\n",
       "    .dataframe thead th {\n",
       "        text-align: right;\n",
       "    }\n",
       "</style>\n",
       "<table border=\"1\" class=\"dataframe\">\n",
       "  <thead>\n",
       "    <tr style=\"text-align: right;\">\n",
       "      <th></th>\n",
       "      <th>movie</th>\n",
       "      <th>year</th>\n",
       "      <th>fandango</th>\n",
       "    </tr>\n",
       "  </thead>\n",
       "  <tbody>\n",
       "    <tr>\n",
       "      <th>108</th>\n",
       "      <td>Mechanic: Resurrection</td>\n",
       "      <td>2016</td>\n",
       "      <td>4.0</td>\n",
       "    </tr>\n",
       "    <tr>\n",
       "      <th>206</th>\n",
       "      <td>Warcraft</td>\n",
       "      <td>2016</td>\n",
       "      <td>4.0</td>\n",
       "    </tr>\n",
       "    <tr>\n",
       "      <th>106</th>\n",
       "      <td>Max Steel</td>\n",
       "      <td>2016</td>\n",
       "      <td>3.5</td>\n",
       "    </tr>\n",
       "    <tr>\n",
       "      <th>107</th>\n",
       "      <td>Me Before You</td>\n",
       "      <td>2016</td>\n",
       "      <td>4.5</td>\n",
       "    </tr>\n",
       "    <tr>\n",
       "      <th>51</th>\n",
       "      <td>Fantastic Beasts and Where to Find Them</td>\n",
       "      <td>2016</td>\n",
       "      <td>4.5</td>\n",
       "    </tr>\n",
       "    <tr>\n",
       "      <th>33</th>\n",
       "      <td>Cell</td>\n",
       "      <td>2016</td>\n",
       "      <td>3.0</td>\n",
       "    </tr>\n",
       "    <tr>\n",
       "      <th>59</th>\n",
       "      <td>Genius</td>\n",
       "      <td>2016</td>\n",
       "      <td>3.5</td>\n",
       "    </tr>\n",
       "    <tr>\n",
       "      <th>152</th>\n",
       "      <td>Sully</td>\n",
       "      <td>2016</td>\n",
       "      <td>4.5</td>\n",
       "    </tr>\n",
       "    <tr>\n",
       "      <th>4</th>\n",
       "      <td>A Hologram for the King</td>\n",
       "      <td>2016</td>\n",
       "      <td>3.0</td>\n",
       "    </tr>\n",
       "    <tr>\n",
       "      <th>31</th>\n",
       "      <td>Captain America: Civil War</td>\n",
       "      <td>2016</td>\n",
       "      <td>4.5</td>\n",
       "    </tr>\n",
       "  </tbody>\n",
       "</table>\n",
       "</div>"
      ],
      "text/plain": [
       "                                       movie  year  fandango\n",
       "108                   Mechanic: Resurrection  2016       4.0\n",
       "206                                 Warcraft  2016       4.0\n",
       "106                                Max Steel  2016       3.5\n",
       "107                            Me Before You  2016       4.5\n",
       "51   Fantastic Beasts and Where to Find Them  2016       4.5\n",
       "33                                      Cell  2016       3.0\n",
       "59                                    Genius  2016       3.5\n",
       "152                                    Sully  2016       4.5\n",
       "4                    A Hologram for the King  2016       3.0\n",
       "31                Captain America: Civil War  2016       4.5"
      ]
     },
     "execution_count": 9,
     "metadata": {},
     "output_type": "execute_result"
    }
   ],
   "source": [
    "fandango_after.sample(10,random_state=1)"
   ]
  },
  {
   "cell_type": "code",
   "execution_count": 10,
   "metadata": {
    "collapsed": false
   },
   "outputs": [
    {
     "name": "stdout",
     "output_type": "stream",
     "text": [
      "0.1\n"
     ]
    }
   ],
   "source": [
    "Collected_data = {\"Mechanic: Resurrection\":2247,\"Warcraft\":7277,\"Max Steel\":493,\"Me Before You\":5267,\"Fantastic Beasts and Where to Find Them\":13424,\"Cell\":17,\"Genius\":127,\"Sully\":11877,\"A Hologram for the King\":500,\"Captain America: Civil War\":35057}\n",
    "cont_not_popular = 0\n",
    "for value in Collected_data.values():\n",
    "    if value<30:\n",
    "        cont_not_popular +=1\n",
    "\n",
    "print(cont_not_popular/10)"
   ]
  },
  {
   "cell_type": "markdown",
   "metadata": {},
   "source": [
    "- As we can see, only 10% of the movies has under 30 reviews. We are going to assume that all the data set is good enough to do the analysis."
   ]
  },
  {
   "cell_type": "code",
   "execution_count": 11,
   "metadata": {
    "collapsed": false
   },
   "outputs": [
    {
     "data": {
      "text/plain": [
       "2015    129\n",
       "2014     17\n",
       "Name: Year, dtype: int64"
      ]
     },
     "execution_count": 11,
     "metadata": {},
     "output_type": "execute_result"
    }
   ],
   "source": [
    "fandango_before[\"Year\"].value_counts()"
   ]
  },
  {
   "cell_type": "code",
   "execution_count": 12,
   "metadata": {
    "collapsed": false
   },
   "outputs": [
    {
     "data": {
      "text/plain": [
       "2016    191\n",
       "2017     23\n",
       "Name: year, dtype: int64"
      ]
     },
     "execution_count": 12,
     "metadata": {},
     "output_type": "execute_result"
    }
   ],
   "source": [
    "fandango_after[\"year\"].value_counts()"
   ]
  },
  {
   "cell_type": "code",
   "execution_count": 13,
   "metadata": {
    "collapsed": true
   },
   "outputs": [],
   "source": [
    "fandango_2015 = fandango_before.loc[fandango_before[\"Year\"]==\"2015\"]\n",
    "fandango_2016 = fandango_after.loc[fandango_after[\"year\"]==2016]"
   ]
  },
  {
   "cell_type": "code",
   "execution_count": 14,
   "metadata": {
    "collapsed": false
   },
   "outputs": [
    {
     "data": {
      "text/plain": [
       "<matplotlib.legend.Legend at 0x7f63e29bccc0>"
      ]
     },
     "execution_count": 14,
     "metadata": {},
     "output_type": "execute_result"
    },
    {
     "data": {
      "image/png": "[encoded data removed]",
      "text/plain": [
       "<matplotlib.figure.Figure at 0x7f63e4ab6320>"
      ]
     },
     "metadata": {},
     "output_type": "display_data"
    }
   ],
   "source": [
    "plt.style.use('fivethirtyeight')\n",
    "fandango_2015[\"Fandango_Stars\"].plot.kde(label=\"Fandango_2015\",legend=True)  #Lindos gráficos. se ve lo mismo que en el código anterior pero más suave. \n",
    "fandango_2016[\"fandango\"].plot.kde(label=\"Fandango_2016\",legend=True)\n",
    "#plt.axvline(wnba[\"MIN\"].mean().round(0),label=\"Average\")\n",
    "plt.xlim(0,5)\n",
    "plt.xlabel(\"Fandango Stars\")\n",
    "plt.xticks([0, 0.5, 1.0, 1.5, 2.0, 2.5, 3.0, 3.5, 4.0, 4.5, 5.0])\n",
    "plt.axvline(fandango_2015[\"Fandango_Stars\"].mean(),color=\"blue\",label=\"2015 mean\")\n",
    "plt.axvline(fandango_2016[\"fandango\"].mean(),color=\"red\",label=\"2016 mean\")\n",
    "plt.legend(loc=\"upper left\")"
   ]
  },
  {
   "cell_type": "code",
   "execution_count": 15,
   "metadata": {
    "collapsed": false
   },
   "outputs": [
    {
     "name": "stdout",
     "output_type": "stream",
     "text": [
      "skew 2015 : -0.41836245240068665\n",
      "skew 2016 : -0.6459635466459924\n"
     ]
    }
   ],
   "source": [
    "print(\"skew 2015 :\",skew(fandango_2015[\"Fandango_Stars\"]))\n",
    "print(\"skew 2016 :\",skew(fandango_2016[\"fandango\"]))"
   ]
  },
  {
   "cell_type": "code",
   "execution_count": 16,
   "metadata": {
    "collapsed": false
   },
   "outputs": [
    {
     "name": "stdout",
     "output_type": "stream",
     "text": [
      "kurtosis 2015 : -0.5853684193441397\n",
      "kurtosis 2016 : 0.14861700234496356\n"
     ]
    }
   ],
   "source": [
    "print(\"kurtosis 2015 :\",kurtosis(fandango_2015[\"Fandango_Stars\"]))\n",
    "print(\"kurtosis 2016 :\",kurtosis(fandango_2016[\"fandango\"]))"
   ]
  },
  {
   "cell_type": "markdown",
   "metadata": {
    "collapsed": true
   },
   "source": [
    "- The shape of each distributions are skewed to the right (like skew factors says). Also the kurtosis factors are differents but less than\n",
    "\n",
    "$$ p= 1/2 \\pm \\sqrt{1/12}.\n",
    "\n",
    "- Their forms are similar, but that of 2015 is clearly more biased to the right than that of 2016. From this we can infer that before the Hickey analysis, the ratings tended to be higher."
   ]
  },
  {
   "cell_type": "code",
   "execution_count": 17,
   "metadata": {
    "collapsed": false
   },
   "outputs": [
    {
     "data": {
      "text/plain": [
       "3.0     8.53\n",
       "3.5    17.83\n",
       "4.0    28.68\n",
       "4.5    37.98\n",
       "5.0     6.98\n",
       "Name: Fandango_Stars, dtype: float64"
      ]
     },
     "execution_count": 17,
     "metadata": {},
     "output_type": "execute_result"
    }
   ],
   "source": [
    "\n",
    "a1 = (fandango_2015[\"Fandango_Stars\"].value_counts(normalize=True).sort_index()*100).round(2)\n",
    "a1"
   ]
  },
  {
   "cell_type": "code",
   "execution_count": 18,
   "metadata": {
    "collapsed": false
   },
   "outputs": [
    {
     "data": {
      "text/plain": [
       "2.5     3.14\n",
       "3.0     7.33\n",
       "3.5    24.08\n",
       "4.0    40.31\n",
       "4.5    24.61\n",
       "5.0     0.52\n",
       "Name: fandango, dtype: float64"
      ]
     },
     "execution_count": 18,
     "metadata": {},
     "output_type": "execute_result"
    }
   ],
   "source": [
    "b1 = (fandango_2016[\"fandango\"].value_counts(normalize=True).sort_index()*100).round(2)\n",
    "b1"
   ]
  },
  {
   "cell_type": "markdown",
   "metadata": {},
   "source": [
    "- Again we can note like in the kernel density plots above that the stars goes a little bit to the left in 2016: appears the value of 2.5 and the most often value becomes 4.0 (instead of 4.5 from 2015)."
   ]
  },
  {
   "cell_type": "markdown",
   "metadata": {},
   "source": [
    "##### Computing the mean, median and the mode for both distributions"
   ]
  },
  {
   "cell_type": "code",
   "execution_count": 19,
   "metadata": {
    "collapsed": false
   },
   "outputs": [
    {
     "name": "stdout",
     "output_type": "stream",
     "text": [
      "2015 Mean:  4.09\n",
      "2016 Mean:  3.89\n"
     ]
    }
   ],
   "source": [
    "mean_2015 = (fandango_2015[\"Fandango_Stars\"].mean()).round(2)\n",
    "mean_2016 = (fandango_2016[\"fandango\"].mean()).round(2)\n",
    "\n",
    "print(\"2015 Mean: \",mean_2015)\n",
    "print(\"2016 Mean: \",mean_2016)"
   ]
  },
  {
   "cell_type": "code",
   "execution_count": 20,
   "metadata": {
    "collapsed": false
   },
   "outputs": [
    {
     "name": "stdout",
     "output_type": "stream",
     "text": [
      "2015 Median:  4.0\n",
      "2016 Median:  4.0\n"
     ]
    }
   ],
   "source": [
    "median_2015 = (fandango_2015[\"Fandango_Stars\"].median())\n",
    "median_2016 = (fandango_2016[\"fandango\"].median())\n",
    "\n",
    "print(\"2015 Median: \",median_2015)\n",
    "print(\"2016 Median: \",median_2016)"
   ]
  },
  {
   "cell_type": "code",
   "execution_count": 21,
   "metadata": {
    "collapsed": false
   },
   "outputs": [
    {
     "name": "stdout",
     "output_type": "stream",
     "text": [
      "2015 Mode:  4.5\n",
      "2016 Mode]:  4.0\n"
     ]
    }
   ],
   "source": [
    "mode_2015 = (fandango_2015[\"Fandango_Stars\"].mode()[0]).round(2)\n",
    "mode_2016 = (fandango_2016[\"fandango\"].mode()[0]).round(2)\n",
    "\n",
    "print(\"2015 Mode: \",mode_2015)\n",
    "print(\"2016 Mode]: \",mode_2016)"
   ]
  },
  {
   "cell_type": "markdown",
   "metadata": {},
   "source": [
    "- From the the statistics calculated before, we can see that the mean and the mode are higher in 2015 than 2016. This is in the way of the conjecture formulated a few cell before.\n",
    "- There is a difference but is slight one."
   ]
  },
  {
   "cell_type": "code",
   "execution_count": 22,
   "metadata": {
    "collapsed": false
   },
   "outputs": [
    {
     "data": {
      "text/html": [
       "<div>\n",
       "<style scoped>\n",
       "    .dataframe tbody tr th:only-of-type {\n",
       "        vertical-align: middle;\n",
       "    }\n",
       "\n",
       "    .dataframe tbody tr th {\n",
       "        vertical-align: top;\n",
       "    }\n",
       "\n",
       "    .dataframe thead th {\n",
       "        text-align: right;\n",
       "    }\n",
       "</style>\n",
       "<table border=\"1\" class=\"dataframe\">\n",
       "  <thead>\n",
       "    <tr style=\"text-align: right;\">\n",
       "      <th></th>\n",
       "      <th>2015</th>\n",
       "      <th>2016</th>\n",
       "    </tr>\n",
       "  </thead>\n",
       "  <tbody>\n",
       "    <tr>\n",
       "      <th>mean</th>\n",
       "      <td>4.09</td>\n",
       "      <td>3.89</td>\n",
       "    </tr>\n",
       "    <tr>\n",
       "      <th>median</th>\n",
       "      <td>4.00</td>\n",
       "      <td>4.00</td>\n",
       "    </tr>\n",
       "    <tr>\n",
       "      <th>mode</th>\n",
       "      <td>4.50</td>\n",
       "      <td>4.00</td>\n",
       "    </tr>\n",
       "  </tbody>\n",
       "</table>\n",
       "</div>"
      ],
      "text/plain": [
       "        2015  2016\n",
       "mean    4.09  3.89\n",
       "median  4.00  4.00\n",
       "mode    4.50  4.00"
      ]
     },
     "execution_count": 22,
     "metadata": {},
     "output_type": "execute_result"
    }
   ],
   "source": [
    "summary = pd.DataFrame()\n",
    "summary['2015'] = [mean_2015, median_2015, mode_2015]\n",
    "summary['2016'] = [mean_2016, median_2016, mode_2016]\n",
    "summary.index = ['mean', 'median', 'mode']\n",
    "summary"
   ]
  },
  {
   "cell_type": "code",
   "execution_count": 23,
   "metadata": {
    "collapsed": false
   },
   "outputs": [
    {
     "data": {
      "image/png": "[encoded data removed]",
      "text/plain": [
       "<matplotlib.figure.Figure at 0x7f63e299e8d0>"
      ]
     },
     "metadata": {},
     "output_type": "display_data"
    }
   ],
   "source": [
    "plt.style.use('fivethirtyeight')\n",
    "summary['2015'].plot.bar(color = 'blue', align = 'center', label = '2015', width = .25)\n",
    "summary['2016'].plot.bar(color = 'red', align = 'edge', label = '2016', width = .25,\n",
    "                         rot = 0, figsize = (8,5))\n",
    "\n",
    "plt.title('Comparing summary statistics: 2015 vs 2016', y = 1.07)\n",
    "plt.ylim(0,5.5)\n",
    "plt.yticks(np.arange(0,5.1,.5))\n",
    "plt.ylabel('Stars')\n",
    "plt.legend(framealpha = 0, loc = 'upper center')\n",
    "plt.show()"
   ]
  },
  {
   "cell_type": "markdown",
   "metadata": {
    "collapsed": true
   },
   "source": [
    "##### Final conclusions: \n",
    "The small difference observed between the years 2015 and 2016 could finally be due to a correction in the errors argued by the people of Fandango.\n",
    "Anyways the punctuations trends to be skewed to the left.\n",
    "\n",
    "In summary, in the rankings of Fandango we can find a higher score, that is, a score that is too optimistic for all films in general."
   ]
  }
 ],
 "metadata": {
  "kernelspec": {
   "display_name": "Python 3",
   "language": "python",
   "name": "python3"
  },
  "language_info": {
   "codemirror_mode": {
    "name": "ipython",
    "version": 3
   },
   "file_extension": ".py",
   "mimetype": "text/x-python",
   "name": "python",
   "nbconvert_exporter": "python",
   "pygments_lexer": "ipython3",
   "version": "3.4.3"
  }
 },
 "nbformat": 4,
 "nbformat_minor": 2
}
